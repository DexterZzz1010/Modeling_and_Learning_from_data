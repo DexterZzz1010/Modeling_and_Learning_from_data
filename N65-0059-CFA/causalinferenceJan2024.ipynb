{
  "nbformat": 4,
  "nbformat_minor": 0,
  "metadata": {
    "colab": {
      "provenance": []
    },
    "kernelspec": {
      "name": "python3",
      "display_name": "Python 3"
    }
  },
  "cells": [
    {
      "cell_type": "markdown",
      "metadata": {
        "id": "iEGwNNUhTRN_"
      },
      "source": []
    },
    {
      "cell_type": "code",
      "metadata": {
        "id": "Ecz7LEUyR02n"
      },
      "source": [
        "import numpy as np\n",
        "import statsmodels.formula.api as smf\n",
        "import pandas as pd\n",
        "\n",
        "# Generate data in linear SCM model\n",
        "N = 10000;\n",
        "ns = np.random.normal(0, 1, N)\n",
        "nw = np.random.normal(0, 1, N)\n",
        "nd = np.random.normal(0, 1, N)\n",
        "ny = np.random.normal(0, 1, N)\n",
        "\n",
        "# You should change these 5 coefficients to positive numbers that illustrate how the paradox can occur\n",
        "# I.e. a negative estimated coefficient for S can arise, even though all coefficients are positive\n",
        "\n",
        "c1 = 1\n",
        "c2 = 2\n",
        "c3 = 3\n",
        "c4 = 4\n",
        "c5 = 5\n",
        "\n",
        "S = ns\n",
        "D = nd\n",
        "W = c4*S + c5*D + nw\n",
        "Y = c1*S + c2*W + c3*D + ny\n",
        "\n",
        "dat1 = pd.DataFrame({'S':S, 'W':W, 'D':D, 'Y':Y})"
      ],
      "execution_count": 2,
      "outputs": []
    },
    {
      "cell_type": "code",
      "metadata": {
        "colab": {
          "base_uri": "https://localhost:8080/"
        },
        "id": "QMZLyWtIR8KU",
        "outputId": "99fe7f32-f82f-465a-b6c6-262d349dd4f6"
      },
      "source": [
        "# A negative coefficient on S would indicate the paradox that smoking could be believed to decrease child mortality\n",
        "# Run this after you have chosen some suitable coefficients c1-c5 above !\n",
        "results1 = smf.ols('Y ~ S + W + D', data=dat1).fit()\n",
        "print(results1.summary())\n"
      ],
      "execution_count": 4,
      "outputs": [
        {
          "output_type": "stream",
          "name": "stdout",
          "text": [
            "                            OLS Regression Results                            \n",
            "==============================================================================\n",
            "Dep. Variable:                      Y   R-squared:                       0.996\n",
            "Model:                            OLS   Adj. R-squared:                  0.996\n",
            "Method:                 Least Squares   F-statistic:                 8.466e+05\n",
            "Date:                Thu, 04 Jan 2024   Prob (F-statistic):               0.00\n",
            "Time:                        14:14:47   Log-Likelihood:                -14176.\n",
            "No. Observations:               10000   AIC:                         2.836e+04\n",
            "Df Residuals:                    9996   BIC:                         2.839e+04\n",
            "Df Model:                           3                                         \n",
            "Covariance Type:            nonrobust                                         \n",
            "==============================================================================\n",
            "                 coef    std err          t      P>|t|      [0.025      0.975]\n",
            "------------------------------------------------------------------------------\n",
            "Intercept     -0.0022      0.010     -0.224      0.823      -0.022       0.017\n",
            "S              1.0154      0.042     24.317      0.000       0.934       1.097\n",
            "W              1.9965      0.010    196.940      0.000       1.977       2.016\n",
            "D              3.0370      0.052     58.707      0.000       2.936       3.138\n",
            "==============================================================================\n",
            "Omnibus:                        9.014   Durbin-Watson:                   2.037\n",
            "Prob(Omnibus):                  0.011   Jarque-Bera (JB):                9.535\n",
            "Skew:                           0.044   Prob(JB):                      0.00850\n",
            "Kurtosis:                       3.124   Cond. No.                         43.6\n",
            "==============================================================================\n",
            "\n",
            "Notes:\n",
            "[1] Standard Errors assume that the covariance matrix of the errors is correctly specified.\n"
          ]
        }
      ]
    },
    {
      "cell_type": "code",
      "metadata": {
        "colab": {
          "base_uri": "https://localhost:8080/"
        },
        "id": "LXeCTwObSmwz",
        "outputId": "c9fe6641-2d2a-41a7-e220-42d4e26771a4"
      },
      "source": [
        "# What is the correct causal effect of S on Y\n",
        "# Change the code below to calculate it !\n",
        "results2 = smf.ols('Y ~ S+W+D ', data=dat1).fit()\n",
        "print(results2.summary())\n"
      ],
      "execution_count": 9,
      "outputs": [
        {
          "output_type": "stream",
          "name": "stdout",
          "text": [
            "                            OLS Regression Results                            \n",
            "==============================================================================\n",
            "Dep. Variable:                      Y   R-squared:                       0.996\n",
            "Model:                            OLS   Adj. R-squared:                  0.996\n",
            "Method:                 Least Squares   F-statistic:                 8.466e+05\n",
            "Date:                Thu, 04 Jan 2024   Prob (F-statistic):               0.00\n",
            "Time:                        15:11:15   Log-Likelihood:                -14176.\n",
            "No. Observations:               10000   AIC:                         2.836e+04\n",
            "Df Residuals:                    9996   BIC:                         2.839e+04\n",
            "Df Model:                           3                                         \n",
            "Covariance Type:            nonrobust                                         \n",
            "==============================================================================\n",
            "                 coef    std err          t      P>|t|      [0.025      0.975]\n",
            "------------------------------------------------------------------------------\n",
            "Intercept     -0.0022      0.010     -0.224      0.823      -0.022       0.017\n",
            "S              1.0154      0.042     24.317      0.000       0.934       1.097\n",
            "W              1.9965      0.010    196.940      0.000       1.977       2.016\n",
            "D              3.0370      0.052     58.707      0.000       2.936       3.138\n",
            "==============================================================================\n",
            "Omnibus:                        9.014   Durbin-Watson:                   2.037\n",
            "Prob(Omnibus):                  0.011   Jarque-Bera (JB):                9.535\n",
            "Skew:                           0.044   Prob(JB):                      0.00850\n",
            "Kurtosis:                       3.124   Cond. No.                         43.6\n",
            "==============================================================================\n",
            "\n",
            "Notes:\n",
            "[1] Standard Errors assume that the covariance matrix of the errors is correctly specified.\n"
          ]
        }
      ]
    },
    {
      "cell_type": "code",
      "source": [],
      "metadata": {
        "id": "5mMCZjjreMDZ"
      },
      "execution_count": null,
      "outputs": []
    }
  ]
}